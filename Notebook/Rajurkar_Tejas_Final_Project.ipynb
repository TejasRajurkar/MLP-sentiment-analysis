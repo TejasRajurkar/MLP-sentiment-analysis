{
 "cells": [
  {
   "cell_type": "markdown",
   "metadata": {},
   "source": [
    "Github Username - TejasRajurkar98\n",
    "\n",
    "Name - Tejas Rajurkar\n",
    "\n",
    "USC ID - 8284887141"
   ]
  },
  {
   "cell_type": "code",
   "execution_count": 1,
   "metadata": {
    "id": "PKfR1RIAxfc_"
   },
   "outputs": [],
   "source": [
    "from keras.preprocessing.text import Tokenizer\n",
    "import pandas as pd\n",
    "import string\n",
    "import os\n",
    "import seaborn as sns\n",
    "import tensorflow as tf\n",
    "import re\n",
    "from keras.models import Sequential\n",
    "from keras.layers import Dense, Dropout, Flatten ,Embedding, Input, Conv1D, MaxPool1D, LSTM\n",
    "import numpy as np"
   ]
  },
  {
   "cell_type": "code",
   "execution_count": 2,
   "metadata": {
    "colab": {
     "base_uri": "https://localhost:8080/",
     "height": 183
    },
    "id": "jNxmmfOGx7Hu",
    "outputId": "b8265aea-2915-411b-c67f-f6f00b3033a5"
   },
   "outputs": [],
   "source": [
    "pos_files = os.listdir(\"../Data/pos\")\n",
    "neg_files = os.listdir(\"../Data/neg\")"
   ]
  },
  {
   "cell_type": "markdown",
   "metadata": {
    "id": "JHwVw8g25OFA"
   },
   "source": [
    "<h2>Q1 b(i),(ii)</h2>\n"
   ]
  },
  {
   "cell_type": "code",
   "execution_count": 3,
   "metadata": {
    "id": "vCOEc2ctx9qa"
   },
   "outputs": [],
   "source": [
    "data = pd.DataFrame(columns=['file','content', 'length', 'sentiment'])\n",
    "train_data = pd.DataFrame(columns=['file','content', 'length', 'sentiment'])\n",
    "test_data = pd.DataFrame(columns=['file','content', 'length', 'sentiment'])\n",
    "\n",
    "for i in range(len(pos_files)):\n",
    "    with open('../Data/pos/'+pos_files[i], 'r') as pos_file:\n",
    "        content = []\n",
    "        for line in pos_file:\n",
    "            characters_to_remove = string.punctuation\n",
    "            characters_to_remove = characters_to_remove + '1234567890'\n",
    "            line = line.translate(str.maketrans('','', characters_to_remove))\n",
    "            line = re.sub(\" +\", \" \", line)\n",
    "            line = line.strip()\n",
    "            content.append(line)\n",
    "        content = ' '.join([str(elem) for elem in content])\n",
    "        data = data.append({'file' : pos_files[i],'content': content, 'length' : len(content.split(\" \")), 'sentiment': 1}, ignore_index= True)\n",
    "        file_number = int(pos_files[i].split('_')[0].split('v')[1])\n",
    "        if file_number > 699:\n",
    "            test_data = test_data.append({'file' : pos_files[i],'content': content, 'length' : len(content.split(\" \")), 'sentiment': 1}, ignore_index= True)\n",
    "        else:\n",
    "            train_data = train_data.append({'file' : pos_files[i],'content': content, 'length' : len(content.split(\" \")), 'sentiment': 1}, ignore_index= True)\n",
    "\n",
    "for i in range(len(neg_files)):\n",
    "    with open('../Data/neg/'+neg_files[i], 'r') as neg_file:\n",
    "        content = []\n",
    "        for line in neg_file:\n",
    "            characters_to_remove = string.punctuation\n",
    "            characters_to_remove = characters_to_remove + '1234567890'\n",
    "            line = line.translate(str.maketrans('','', characters_to_remove))\n",
    "            line = re.sub(\" +\", \" \", line)\n",
    "            line = line.strip()\n",
    "            content.append(line)\n",
    "        content = ' '.join([str(elem) for elem in content])\n",
    "        data = data.append({'file' : neg_files[i],'content': content, 'length' : len(content.split(\" \")), 'sentiment': 0}, ignore_index= True)\n",
    "        file_number = int(neg_files[i].split('_')[0].split('v')[1])\n",
    "        if file_number > 699:\n",
    "            test_data = test_data.append({'file' : neg_files[i],'content': content, 'length' : len(content.split(\" \")), 'sentiment': 0}, ignore_index= True)\n",
    "        else:\n",
    "            train_data = train_data.append({'file' : neg_files[i],'content': content, 'length' : len(content.split(\" \")), 'sentiment': 0}, ignore_index= True)"
   ]
  },
  {
   "cell_type": "code",
   "execution_count": 4,
   "metadata": {
    "id": "xbdJjilznjWV"
   },
   "outputs": [
    {
     "data": {
      "text/html": [
       "<div>\n",
       "<style scoped>\n",
       "    .dataframe tbody tr th:only-of-type {\n",
       "        vertical-align: middle;\n",
       "    }\n",
       "\n",
       "    .dataframe tbody tr th {\n",
       "        vertical-align: top;\n",
       "    }\n",
       "\n",
       "    .dataframe thead th {\n",
       "        text-align: right;\n",
       "    }\n",
       "</style>\n",
       "<table border=\"1\" class=\"dataframe\">\n",
       "  <thead>\n",
       "    <tr style=\"text-align: right;\">\n",
       "      <th></th>\n",
       "      <th>file</th>\n",
       "      <th>content</th>\n",
       "      <th>length</th>\n",
       "      <th>sentiment</th>\n",
       "    </tr>\n",
       "  </thead>\n",
       "  <tbody>\n",
       "    <tr>\n",
       "      <th>0</th>\n",
       "      <td>cv000_29590.txt</td>\n",
       "      <td>films adapted from comic books have had plenty...</td>\n",
       "      <td>679</td>\n",
       "      <td>1</td>\n",
       "    </tr>\n",
       "    <tr>\n",
       "      <th>1</th>\n",
       "      <td>cv001_18431.txt</td>\n",
       "      <td>every now and then a movie comes along from a ...</td>\n",
       "      <td>650</td>\n",
       "      <td>1</td>\n",
       "    </tr>\n",
       "    <tr>\n",
       "      <th>2</th>\n",
       "      <td>cv002_15918.txt</td>\n",
       "      <td>youve got mail works alot better than it deser...</td>\n",
       "      <td>416</td>\n",
       "      <td>1</td>\n",
       "    </tr>\n",
       "    <tr>\n",
       "      <th>3</th>\n",
       "      <td>cv003_11664.txt</td>\n",
       "      <td>jaws is a rare film that grabs your attention ...</td>\n",
       "      <td>997</td>\n",
       "      <td>1</td>\n",
       "    </tr>\n",
       "    <tr>\n",
       "      <th>4</th>\n",
       "      <td>cv004_11636.txt</td>\n",
       "      <td>moviemaking is a lot like being the general ma...</td>\n",
       "      <td>644</td>\n",
       "      <td>1</td>\n",
       "    </tr>\n",
       "    <tr>\n",
       "      <th>...</th>\n",
       "      <td>...</td>\n",
       "      <td>...</td>\n",
       "      <td>...</td>\n",
       "      <td>...</td>\n",
       "    </tr>\n",
       "    <tr>\n",
       "      <th>1995</th>\n",
       "      <td>cv995_23113.txt</td>\n",
       "      <td>if anything stigmata should be taken as a warn...</td>\n",
       "      <td>1370</td>\n",
       "      <td>0</td>\n",
       "    </tr>\n",
       "    <tr>\n",
       "      <th>1996</th>\n",
       "      <td>cv996_12447.txt</td>\n",
       "      <td>john boormans zardoz is a goofy cinematic deba...</td>\n",
       "      <td>1009</td>\n",
       "      <td>0</td>\n",
       "    </tr>\n",
       "    <tr>\n",
       "      <th>1997</th>\n",
       "      <td>cv997_5152.txt</td>\n",
       "      <td>the kids in the hall are an acquired taste it ...</td>\n",
       "      <td>396</td>\n",
       "      <td>0</td>\n",
       "    </tr>\n",
       "    <tr>\n",
       "      <th>1998</th>\n",
       "      <td>cv998_15691.txt</td>\n",
       "      <td>there was a time when john carpenter was a gre...</td>\n",
       "      <td>521</td>\n",
       "      <td>0</td>\n",
       "    </tr>\n",
       "    <tr>\n",
       "      <th>1999</th>\n",
       "      <td>cv999_14636.txt</td>\n",
       "      <td>two party guys bob their heads to haddaways da...</td>\n",
       "      <td>503</td>\n",
       "      <td>0</td>\n",
       "    </tr>\n",
       "  </tbody>\n",
       "</table>\n",
       "<p>2000 rows × 4 columns</p>\n",
       "</div>"
      ],
      "text/plain": [
       "                 file                                            content  \\\n",
       "0     cv000_29590.txt  films adapted from comic books have had plenty...   \n",
       "1     cv001_18431.txt  every now and then a movie comes along from a ...   \n",
       "2     cv002_15918.txt  youve got mail works alot better than it deser...   \n",
       "3     cv003_11664.txt  jaws is a rare film that grabs your attention ...   \n",
       "4     cv004_11636.txt  moviemaking is a lot like being the general ma...   \n",
       "...               ...                                                ...   \n",
       "1995  cv995_23113.txt  if anything stigmata should be taken as a warn...   \n",
       "1996  cv996_12447.txt  john boormans zardoz is a goofy cinematic deba...   \n",
       "1997   cv997_5152.txt  the kids in the hall are an acquired taste it ...   \n",
       "1998  cv998_15691.txt  there was a time when john carpenter was a gre...   \n",
       "1999  cv999_14636.txt  two party guys bob their heads to haddaways da...   \n",
       "\n",
       "     length sentiment  \n",
       "0       679         1  \n",
       "1       650         1  \n",
       "2       416         1  \n",
       "3       997         1  \n",
       "4       644         1  \n",
       "...     ...       ...  \n",
       "1995   1370         0  \n",
       "1996   1009         0  \n",
       "1997    396         0  \n",
       "1998    521         0  \n",
       "1999    503         0  \n",
       "\n",
       "[2000 rows x 4 columns]"
      ]
     },
     "execution_count": 4,
     "metadata": {},
     "output_type": "execute_result"
    }
   ],
   "source": [
    "data"
   ]
  },
  {
   "cell_type": "markdown",
   "metadata": {},
   "source": [
    "<h2>Q1 b(iii)</h2>"
   ]
  },
  {
   "cell_type": "code",
   "execution_count": 5,
   "metadata": {},
   "outputs": [
    {
     "data": {
      "text/html": [
       "<div>\n",
       "<style scoped>\n",
       "    .dataframe tbody tr th:only-of-type {\n",
       "        vertical-align: middle;\n",
       "    }\n",
       "\n",
       "    .dataframe tbody tr th {\n",
       "        vertical-align: top;\n",
       "    }\n",
       "\n",
       "    .dataframe thead th {\n",
       "        text-align: right;\n",
       "    }\n",
       "</style>\n",
       "<table border=\"1\" class=\"dataframe\">\n",
       "  <thead>\n",
       "    <tr style=\"text-align: right;\">\n",
       "      <th></th>\n",
       "      <th>file</th>\n",
       "      <th>content</th>\n",
       "      <th>length</th>\n",
       "      <th>sentiment</th>\n",
       "    </tr>\n",
       "  </thead>\n",
       "  <tbody>\n",
       "    <tr>\n",
       "      <th>0</th>\n",
       "      <td>cv000_29590.txt</td>\n",
       "      <td>films adapted from comic books have had plenty...</td>\n",
       "      <td>679</td>\n",
       "      <td>1</td>\n",
       "    </tr>\n",
       "    <tr>\n",
       "      <th>1</th>\n",
       "      <td>cv001_18431.txt</td>\n",
       "      <td>every now and then a movie comes along from a ...</td>\n",
       "      <td>650</td>\n",
       "      <td>1</td>\n",
       "    </tr>\n",
       "    <tr>\n",
       "      <th>2</th>\n",
       "      <td>cv002_15918.txt</td>\n",
       "      <td>youve got mail works alot better than it deser...</td>\n",
       "      <td>416</td>\n",
       "      <td>1</td>\n",
       "    </tr>\n",
       "    <tr>\n",
       "      <th>3</th>\n",
       "      <td>cv003_11664.txt</td>\n",
       "      <td>jaws is a rare film that grabs your attention ...</td>\n",
       "      <td>997</td>\n",
       "      <td>1</td>\n",
       "    </tr>\n",
       "    <tr>\n",
       "      <th>4</th>\n",
       "      <td>cv004_11636.txt</td>\n",
       "      <td>moviemaking is a lot like being the general ma...</td>\n",
       "      <td>644</td>\n",
       "      <td>1</td>\n",
       "    </tr>\n",
       "    <tr>\n",
       "      <th>...</th>\n",
       "      <td>...</td>\n",
       "      <td>...</td>\n",
       "      <td>...</td>\n",
       "      <td>...</td>\n",
       "    </tr>\n",
       "    <tr>\n",
       "      <th>1395</th>\n",
       "      <td>cv695_22268.txt</td>\n",
       "      <td>house on haunted hill starring taye diggs geof...</td>\n",
       "      <td>594</td>\n",
       "      <td>0</td>\n",
       "    </tr>\n",
       "    <tr>\n",
       "      <th>1396</th>\n",
       "      <td>cv696_29619.txt</td>\n",
       "      <td>fit for a ghouls night out fat girl stands cas...</td>\n",
       "      <td>751</td>\n",
       "      <td>0</td>\n",
       "    </tr>\n",
       "    <tr>\n",
       "      <th>1397</th>\n",
       "      <td>cv697_12106.txt</td>\n",
       "      <td>marie couldnt talk paulie the parrot star of h...</td>\n",
       "      <td>628</td>\n",
       "      <td>0</td>\n",
       "    </tr>\n",
       "    <tr>\n",
       "      <th>1398</th>\n",
       "      <td>cv698_16930.txt</td>\n",
       "      <td>well heres a distasteful thoroughly amateurish...</td>\n",
       "      <td>652</td>\n",
       "      <td>0</td>\n",
       "    </tr>\n",
       "    <tr>\n",
       "      <th>1399</th>\n",
       "      <td>cv699_7773.txt</td>\n",
       "      <td>okay i just dont know why but i seem to be get...</td>\n",
       "      <td>604</td>\n",
       "      <td>0</td>\n",
       "    </tr>\n",
       "  </tbody>\n",
       "</table>\n",
       "<p>1400 rows × 4 columns</p>\n",
       "</div>"
      ],
      "text/plain": [
       "                 file                                            content  \\\n",
       "0     cv000_29590.txt  films adapted from comic books have had plenty...   \n",
       "1     cv001_18431.txt  every now and then a movie comes along from a ...   \n",
       "2     cv002_15918.txt  youve got mail works alot better than it deser...   \n",
       "3     cv003_11664.txt  jaws is a rare film that grabs your attention ...   \n",
       "4     cv004_11636.txt  moviemaking is a lot like being the general ma...   \n",
       "...               ...                                                ...   \n",
       "1395  cv695_22268.txt  house on haunted hill starring taye diggs geof...   \n",
       "1396  cv696_29619.txt  fit for a ghouls night out fat girl stands cas...   \n",
       "1397  cv697_12106.txt  marie couldnt talk paulie the parrot star of h...   \n",
       "1398  cv698_16930.txt  well heres a distasteful thoroughly amateurish...   \n",
       "1399   cv699_7773.txt  okay i just dont know why but i seem to be get...   \n",
       "\n",
       "     length sentiment  \n",
       "0       679         1  \n",
       "1       650         1  \n",
       "2       416         1  \n",
       "3       997         1  \n",
       "4       644         1  \n",
       "...     ...       ...  \n",
       "1395    594         0  \n",
       "1396    751         0  \n",
       "1397    628         0  \n",
       "1398    652         0  \n",
       "1399    604         0  \n",
       "\n",
       "[1400 rows x 4 columns]"
      ]
     },
     "execution_count": 5,
     "metadata": {},
     "output_type": "execute_result"
    }
   ],
   "source": [
    "train_data"
   ]
  },
  {
   "cell_type": "code",
   "execution_count": 6,
   "metadata": {},
   "outputs": [
    {
     "data": {
      "text/html": [
       "<div>\n",
       "<style scoped>\n",
       "    .dataframe tbody tr th:only-of-type {\n",
       "        vertical-align: middle;\n",
       "    }\n",
       "\n",
       "    .dataframe tbody tr th {\n",
       "        vertical-align: top;\n",
       "    }\n",
       "\n",
       "    .dataframe thead th {\n",
       "        text-align: right;\n",
       "    }\n",
       "</style>\n",
       "<table border=\"1\" class=\"dataframe\">\n",
       "  <thead>\n",
       "    <tr style=\"text-align: right;\">\n",
       "      <th></th>\n",
       "      <th>file</th>\n",
       "      <th>content</th>\n",
       "      <th>length</th>\n",
       "      <th>sentiment</th>\n",
       "    </tr>\n",
       "  </thead>\n",
       "  <tbody>\n",
       "    <tr>\n",
       "      <th>0</th>\n",
       "      <td>cv700_21947.txt</td>\n",
       "      <td>let me start off by saying that leading up to ...</td>\n",
       "      <td>1376</td>\n",
       "      <td>1</td>\n",
       "    </tr>\n",
       "    <tr>\n",
       "      <th>1</th>\n",
       "      <td>cv701_14252.txt</td>\n",
       "      <td>seen september at p m at the sony nickelodeon ...</td>\n",
       "      <td>1166</td>\n",
       "      <td>1</td>\n",
       "    </tr>\n",
       "    <tr>\n",
       "      <th>2</th>\n",
       "      <td>cv702_11500.txt</td>\n",
       "      <td>the characters in palmetto collectively sweat ...</td>\n",
       "      <td>510</td>\n",
       "      <td>1</td>\n",
       "    </tr>\n",
       "    <tr>\n",
       "      <th>3</th>\n",
       "      <td>cv703_16143.txt</td>\n",
       "      <td>youve got mail is the very definition of a cut...</td>\n",
       "      <td>349</td>\n",
       "      <td>1</td>\n",
       "    </tr>\n",
       "    <tr>\n",
       "      <th>4</th>\n",
       "      <td>cv704_15969.txt</td>\n",
       "      <td>with the sudden liberal emergence of personal ...</td>\n",
       "      <td>1015</td>\n",
       "      <td>1</td>\n",
       "    </tr>\n",
       "    <tr>\n",
       "      <th>...</th>\n",
       "      <td>...</td>\n",
       "      <td>...</td>\n",
       "      <td>...</td>\n",
       "      <td>...</td>\n",
       "    </tr>\n",
       "    <tr>\n",
       "      <th>595</th>\n",
       "      <td>cv995_23113.txt</td>\n",
       "      <td>if anything stigmata should be taken as a warn...</td>\n",
       "      <td>1370</td>\n",
       "      <td>0</td>\n",
       "    </tr>\n",
       "    <tr>\n",
       "      <th>596</th>\n",
       "      <td>cv996_12447.txt</td>\n",
       "      <td>john boormans zardoz is a goofy cinematic deba...</td>\n",
       "      <td>1009</td>\n",
       "      <td>0</td>\n",
       "    </tr>\n",
       "    <tr>\n",
       "      <th>597</th>\n",
       "      <td>cv997_5152.txt</td>\n",
       "      <td>the kids in the hall are an acquired taste it ...</td>\n",
       "      <td>396</td>\n",
       "      <td>0</td>\n",
       "    </tr>\n",
       "    <tr>\n",
       "      <th>598</th>\n",
       "      <td>cv998_15691.txt</td>\n",
       "      <td>there was a time when john carpenter was a gre...</td>\n",
       "      <td>521</td>\n",
       "      <td>0</td>\n",
       "    </tr>\n",
       "    <tr>\n",
       "      <th>599</th>\n",
       "      <td>cv999_14636.txt</td>\n",
       "      <td>two party guys bob their heads to haddaways da...</td>\n",
       "      <td>503</td>\n",
       "      <td>0</td>\n",
       "    </tr>\n",
       "  </tbody>\n",
       "</table>\n",
       "<p>600 rows × 4 columns</p>\n",
       "</div>"
      ],
      "text/plain": [
       "                file                                            content  \\\n",
       "0    cv700_21947.txt  let me start off by saying that leading up to ...   \n",
       "1    cv701_14252.txt  seen september at p m at the sony nickelodeon ...   \n",
       "2    cv702_11500.txt  the characters in palmetto collectively sweat ...   \n",
       "3    cv703_16143.txt  youve got mail is the very definition of a cut...   \n",
       "4    cv704_15969.txt  with the sudden liberal emergence of personal ...   \n",
       "..               ...                                                ...   \n",
       "595  cv995_23113.txt  if anything stigmata should be taken as a warn...   \n",
       "596  cv996_12447.txt  john boormans zardoz is a goofy cinematic deba...   \n",
       "597   cv997_5152.txt  the kids in the hall are an acquired taste it ...   \n",
       "598  cv998_15691.txt  there was a time when john carpenter was a gre...   \n",
       "599  cv999_14636.txt  two party guys bob their heads to haddaways da...   \n",
       "\n",
       "    length sentiment  \n",
       "0     1376         1  \n",
       "1     1166         1  \n",
       "2      510         1  \n",
       "3      349         1  \n",
       "4     1015         1  \n",
       "..     ...       ...  \n",
       "595   1370         0  \n",
       "596   1009         0  \n",
       "597    396         0  \n",
       "598    521         0  \n",
       "599    503         0  \n",
       "\n",
       "[600 rows x 4 columns]"
      ]
     },
     "execution_count": 6,
     "metadata": {},
     "output_type": "execute_result"
    }
   ],
   "source": [
    "test_data"
   ]
  },
  {
   "cell_type": "markdown",
   "metadata": {},
   "source": [
    "<h2>Q1 b(iv), (vii)</h2>"
   ]
  },
  {
   "cell_type": "code",
   "execution_count": 7,
   "metadata": {
    "id": "CPdaqc4jrgEw"
   },
   "outputs": [],
   "source": [
    "unique_words = set()\n",
    "train_tokenizer = Tokenizer()\n",
    "train_tokenizer.fit_on_texts(train_data['content'])\n",
    "train_word_index = train_tokenizer.word_index\n",
    "train_sequences = train_tokenizer.texts_to_sequences(train_data['content'])\n",
    "unique_words.update(train_word_index.keys())"
   ]
  },
  {
   "cell_type": "code",
   "execution_count": 8,
   "metadata": {
    "id": "HkULs8ExuHqx"
   },
   "outputs": [],
   "source": [
    "test_tokenizer = Tokenizer()\n",
    "test_tokenizer.fit_on_texts(test_data['content'])\n",
    "test_word_index = test_tokenizer.word_index\n",
    "test_sequences = test_tokenizer.texts_to_sequences(test_data['content'])\n",
    "unique_words.update(test_word_index.keys())"
   ]
  },
  {
   "cell_type": "code",
   "execution_count": 9,
   "metadata": {
    "id": "779y5J8l5sNB"
   },
   "outputs": [
    {
     "name": "stdout",
     "output_type": "stream",
     "text": [
      "Number of unique words in whole dataset: 46830\n"
     ]
    }
   ],
   "source": [
    "print('Number of unique words in whole dataset:', len(unique_words))"
   ]
  },
  {
   "cell_type": "markdown",
   "metadata": {},
   "source": [
    "<h2>Q1 b(v)</h2>"
   ]
  },
  {
   "cell_type": "code",
   "execution_count": 10,
   "metadata": {
    "id": "hZzGpfAM6O5g"
   },
   "outputs": [
    {
     "name": "stdout",
     "output_type": "stream",
     "text": [
      "Average of review length: 644.4425\n",
      "STD of review length: 285.0640128803875\n"
     ]
    }
   ],
   "source": [
    "print('Average of review length:',data['length'].mean())\n",
    "print('STD of review length:',data['length'].std())"
   ]
  },
  {
   "cell_type": "markdown",
   "metadata": {},
   "source": [
    "<h2>Q1 b(vi)</h2>"
   ]
  },
  {
   "cell_type": "code",
   "execution_count": 11,
   "metadata": {
    "id": "4ME7ivGp6aDa"
   },
   "outputs": [
    {
     "data": {
      "text/plain": [
       "<AxesSubplot:xlabel='length', ylabel='Count'>"
      ]
     },
     "execution_count": 11,
     "metadata": {},
     "output_type": "execute_result"
    },
    {
     "data": {
      "image/png": "[encoded data removed]",
      "text/plain": [
       "<Figure size 432x288 with 1 Axes>"
      ]
     },
     "metadata": {
      "needs_background": "light"
     },
     "output_type": "display_data"
    }
   ],
   "source": [
    "sns.histplot(data['length'])"
   ]
  },
  {
   "cell_type": "markdown",
   "metadata": {},
   "source": [
    "<h2>Q1 b(viii)</h2>"
   ]
  },
  {
   "cell_type": "code",
   "execution_count": 12,
   "metadata": {
    "id": "Qv8e3O0A7sCR"
   },
   "outputs": [
    {
     "name": "stdout",
     "output_type": "stream",
     "text": [
      "Value of L : 737.0\n"
     ]
    }
   ],
   "source": [
    "L = data['length'].quantile(0.7)\n",
    "print('Value of L :',L)"
   ]
  },
  {
   "cell_type": "markdown",
   "metadata": {},
   "source": [
    "<h2>Q1 b(ix)</h2>"
   ]
  },
  {
   "cell_type": "code",
   "execution_count": 13,
   "metadata": {
    "id": "Dxb4QKBj8fEE"
   },
   "outputs": [
    {
     "name": "stdout",
     "output_type": "stream",
     "text": [
      "[[  66 3436   31 ...    0    0    0]\n",
      " [ 149  141    3 ...    0    0    0]\n",
      " [ 715  287 4181 ...    0    0    0]\n",
      " ...\n",
      " [5879  661  600 ...    0    0    0]\n",
      " [  83 1710    2 ...    0    0    0]\n",
      " [1107   18   50 ...    0    0    0]]\n"
     ]
    }
   ],
   "source": [
    "train_zero_pad_sequences = tf.keras.preprocessing.sequence.pad_sequences(train_sequences, maxlen=int(L), padding = 'post')\n",
    "print(train_zero_pad_sequences)"
   ]
  },
  {
   "cell_type": "code",
   "execution_count": 14,
   "metadata": {
    "id": "yoLhk9PC2WqL"
   },
   "outputs": [
    {
     "name": "stdout",
     "output_type": "stream",
     "text": [
      "[[4319   40   36 ...    5  684  711]\n",
      " [3357 6972   23 ...    2 1116 3135]\n",
      " [   1   71    7 ...    0    0    0]\n",
      " ...\n",
      " [   1  414    7 ...    0    0    0]\n",
      " [  51   32    2 ...    0    0    0]\n",
      " [  76  616  512 ...    0    0    0]]\n"
     ]
    }
   ],
   "source": [
    "test_zero_pad_sequences = tf.keras.preprocessing.sequence.pad_sequences(test_sequences, maxlen=int(L), padding = 'post')\n",
    "print(test_zero_pad_sequences)"
   ]
  },
  {
   "cell_type": "markdown",
   "metadata": {},
   "source": [
    "<h2>Q1 c(i)</h2>"
   ]
  },
  {
   "cell_type": "code",
   "execution_count": 15,
   "metadata": {
    "id": "84onwyKr3BNW"
   },
   "outputs": [
    {
     "name": "stdout",
     "output_type": "stream",
     "text": [
      "[[  66 3436   31 ...    0    0    0]\n",
      " [ 149  141    3 ...    0    0    0]\n",
      " [ 715  287 4181 ...    0    0    0]\n",
      " ...\n",
      " [   0  661  600 ...    0    0    0]\n",
      " [  83 1710    2 ...    0    0    0]\n",
      " [1107   18   50 ...    0    0    0]]\n"
     ]
    }
   ],
   "source": [
    "train_word_embedding = train_zero_pad_sequences\n",
    "for i in range(len(train_zero_pad_sequences)):\n",
    "    for j in range(len(train_zero_pad_sequences[i])):\n",
    "        if(train_zero_pad_sequences[i][j] >= 5000):\n",
    "            train_word_embedding[i][j] = 0\n",
    "print((train_word_embedding))"
   ]
  },
  {
   "cell_type": "code",
   "execution_count": 16,
   "metadata": {
    "id": "S_ItX8mM9hiX"
   },
   "outputs": [
    {
     "name": "stdout",
     "output_type": "stream",
     "text": [
      "[[4319   40   36 ...    5  684  711]\n",
      " [3357    0   23 ...    2 1116 3135]\n",
      " [   1   71    7 ...    0    0    0]\n",
      " ...\n",
      " [   1  414    7 ...    0    0    0]\n",
      " [  51   32    2 ...    0    0    0]\n",
      " [  76  616  512 ...    0    0    0]]\n"
     ]
    }
   ],
   "source": [
    "test_word_embedding = test_zero_pad_sequences\n",
    "for i in range(len(test_zero_pad_sequences)):\n",
    "    for j in range(len(test_zero_pad_sequences[i])):\n",
    "        if(test_zero_pad_sequences[i][j] >= 5000):\n",
    "            test_word_embedding[i][j] = 0\n",
    "print((test_word_embedding))"
   ]
  },
  {
   "cell_type": "markdown",
   "metadata": {
    "id": "JmzHOkLw2tOW"
   },
   "source": [
    "<h2>Q1 c(ii)</h2>\n",
    "<p> Embedding and Flattening has been done as a part of models</p>"
   ]
  },
  {
   "cell_type": "markdown",
   "metadata": {
    "id": "q95QDWma3ZSv"
   },
   "source": [
    "<h2>Q1 d(i)</h2>"
   ]
  },
  {
   "cell_type": "code",
   "execution_count": 18,
   "metadata": {
    "id": "byY0DHAMCPs1"
   },
   "outputs": [],
   "source": [
    "#MLP\n",
    "model = Sequential()\n",
    "model.add(Embedding(5000, 32, input_length=train_word_embedding.shape[1]))\n",
    "model.add(Flatten())\n",
    "model.add(Dense(50, activation='relu'))\n",
    "model.add(Dropout(0.2))\n",
    "model.add(Dense(50, activation='relu'))\n",
    "model.add(Dropout(0.5))\n",
    "model.add(Dense(50, activation='relu'))\n",
    "model.add(Dropout(0.5))\n",
    "model.add(Dense(1, activation='sigmoid'))"
   ]
  },
  {
   "cell_type": "code",
   "execution_count": 19,
   "metadata": {
    "id": "XDWbO8FU5oY0"
   },
   "outputs": [
    {
     "name": "stdout",
     "output_type": "stream",
     "text": [
      "Model: \"sequential\"\n",
      "_________________________________________________________________\n",
      " Layer (type)                Output Shape              Param #   \n",
      "=================================================================\n",
      " embedding (Embedding)       (None, 737, 32)           160000    \n",
      "                                                                 \n",
      " flatten (Flatten)           (None, 23584)             0         \n",
      "                                                                 \n",
      " dense (Dense)               (None, 50)                1179250   \n",
      "                                                                 \n",
      " dropout (Dropout)           (None, 50)                0         \n",
      "                                                                 \n",
      " dense_1 (Dense)             (None, 50)                2550      \n",
      "                                                                 \n",
      " dropout_1 (Dropout)         (None, 50)                0         \n",
      "                                                                 \n",
      " dense_2 (Dense)             (None, 50)                2550      \n",
      "                                                                 \n",
      " dropout_2 (Dropout)         (None, 50)                0         \n",
      "                                                                 \n",
      " dense_3 (Dense)             (None, 1)                 51        \n",
      "                                                                 \n",
      "=================================================================\n",
      "Total params: 1,344,401\n",
      "Trainable params: 1,344,401\n",
      "Non-trainable params: 0\n",
      "_________________________________________________________________\n"
     ]
    }
   ],
   "source": [
    "model.summary()"
   ]
  },
  {
   "cell_type": "code",
   "execution_count": 20,
   "metadata": {
    "id": "hKHEBkOQSbMu"
   },
   "outputs": [
    {
     "name": "stdout",
     "output_type": "stream",
     "text": [
      "Epoch 1/2\n",
      "140/140 [==============================] - 1s 6ms/step - loss: 0.6976 - accuracy: 0.5236\n",
      "Epoch 2/2\n",
      "140/140 [==============================] - 1s 6ms/step - loss: 0.5941 - accuracy: 0.6807\n"
     ]
    },
    {
     "data": {
      "text/plain": [
       "<keras.callbacks.History at 0x1469fc972b0>"
      ]
     },
     "execution_count": 20,
     "metadata": {},
     "output_type": "execute_result"
    }
   ],
   "source": [
    "model.compile(loss='binary_crossentropy', optimizer='adam', metrics='accuracy')\n",
    "train_y = tf.convert_to_tensor(np.asarray(train_data['sentiment']).astype(np.float32))\n",
    "model.fit(train_word_embedding, train_y, epochs=2, batch_size=10, verbose=1)"
   ]
  },
  {
   "cell_type": "markdown",
   "metadata": {
    "id": "jR_aLYeIQQjh"
   },
   "source": [
    "<h2>Q1 d(ii)</h2>"
   ]
  },
  {
   "cell_type": "code",
   "execution_count": 21,
   "metadata": {
    "id": "YFWTs8xiU1x6"
   },
   "outputs": [
    {
     "name": "stdout",
     "output_type": "stream",
     "text": [
      "19/19 [==============================] - 0s 4ms/step - loss: 0.7666 - accuracy: 0.5183\n",
      "Test Accuracy: 0.5183333158493042\n"
     ]
    }
   ],
   "source": [
    "test_y = tf.convert_to_tensor(np.asarray(test_data['sentiment']).astype(np.float32))\n",
    "loss, accuracy = model.evaluate(test_word_embedding, test_y)\n",
    "print('Test Accuracy:',accuracy)"
   ]
  },
  {
   "cell_type": "code",
   "execution_count": 22,
   "metadata": {
    "id": "zkb4P8yJEKyD"
   },
   "outputs": [
    {
     "name": "stdout",
     "output_type": "stream",
     "text": [
      "44/44 [==============================] - 0s 4ms/step - loss: 0.2216 - accuracy: 0.9514\n",
      "Training Accuracy: 0.9514285922050476\n"
     ]
    }
   ],
   "source": [
    "loss, accuracy = model.evaluate(train_word_embedding, train_y)\n",
    "print('Training Accuracy:',accuracy)"
   ]
  },
  {
   "cell_type": "markdown",
   "metadata": {},
   "source": [
    "<h2>Q1 e(i)</h2>"
   ]
  },
  {
   "cell_type": "code",
   "execution_count": 20,
   "metadata": {
    "id": "Ytkfw6uNFf8B"
   },
   "outputs": [],
   "source": [
    "#1D-CNN\n",
    "model1 = Sequential()\n",
    "model1.add(Embedding(5000, 32, input_length=train_word_embedding.shape[1]))\n",
    "model1.add(Conv1D(32, 3))\n",
    "model1.add(MaxPool1D(2,strides=2))\n",
    "model1.add(Dense(50, activation='relu'))\n",
    "model1.add(Dropout(0.2))\n",
    "model1.add(Dense(50, activation='relu'))\n",
    "model1.add(Dropout(0.5))\n",
    "model1.add(Dense(50, activation='relu'))\n",
    "model1.add(Dropout(0.5))\n",
    "model1.add(Dense(1, activation='sigmoid'))"
   ]
  },
  {
   "cell_type": "code",
   "execution_count": 21,
   "metadata": {
    "id": "mdAnFm60aWTl"
   },
   "outputs": [
    {
     "name": "stdout",
     "output_type": "stream",
     "text": [
      "Model: \"sequential_1\"\n",
      "_________________________________________________________________\n",
      " Layer (type)                Output Shape              Param #   \n",
      "=================================================================\n",
      " embedding_1 (Embedding)     (None, 737, 32)           160000    \n",
      "                                                                 \n",
      " conv1d (Conv1D)             (None, 735, 32)           3104      \n",
      "                                                                 \n",
      " max_pooling1d (MaxPooling1D  (None, 367, 32)          0         \n",
      " )                                                               \n",
      "                                                                 \n",
      " dense_1 (Dense)             (None, 367, 50)           1650      \n",
      "                                                                 \n",
      " dropout_1 (Dropout)         (None, 367, 50)           0         \n",
      "                                                                 \n",
      " dense_2 (Dense)             (None, 367, 50)           2550      \n",
      "                                                                 \n",
      " dropout_2 (Dropout)         (None, 367, 50)           0         \n",
      "                                                                 \n",
      " dense_3 (Dense)             (None, 367, 50)           2550      \n",
      "                                                                 \n",
      " dropout_3 (Dropout)         (None, 367, 50)           0         \n",
      "                                                                 \n",
      " dense_4 (Dense)             (None, 367, 1)            51        \n",
      "                                                                 \n",
      "=================================================================\n",
      "Total params: 169,905\n",
      "Trainable params: 169,905\n",
      "Non-trainable params: 0\n",
      "_________________________________________________________________\n"
     ]
    }
   ],
   "source": [
    "model1.summary()"
   ]
  },
  {
   "cell_type": "code",
   "execution_count": 22,
   "metadata": {
    "id": "xun2GDKEafAY"
   },
   "outputs": [
    {
     "name": "stdout",
     "output_type": "stream",
     "text": [
      "Epoch 1/2\n",
      "140/140 [==============================] - 4s 19ms/step - loss: 0.6939 - accuracy: 0.4924\n",
      "Epoch 2/2\n",
      "140/140 [==============================] - 3s 19ms/step - loss: 0.6913 - accuracy: 0.5294\n"
     ]
    },
    {
     "data": {
      "text/plain": [
       "<keras.callbacks.History at 0x1e1ac2a3cd0>"
      ]
     },
     "execution_count": 22,
     "metadata": {},
     "output_type": "execute_result"
    }
   ],
   "source": [
    "model1.compile(loss='binary_crossentropy', optimizer='adam', metrics='accuracy')\n",
    "train_y1 = tf.convert_to_tensor(np.asarray(train_data['sentiment']).astype(np.float32).reshape((-1,1)))\n",
    "model1.fit(train_word_embedding, train_y1, epochs=2, batch_size=10, verbose=1)"
   ]
  },
  {
   "cell_type": "markdown",
   "metadata": {},
   "source": [
    "<h2>Q1 e(ii)</h2>"
   ]
  },
  {
   "cell_type": "code",
   "execution_count": 23,
   "metadata": {
    "id": "-sSGWKxVanSL"
   },
   "outputs": [
    {
     "name": "stdout",
     "output_type": "stream",
     "text": [
      "19/19 [==============================] - 1s 19ms/step - loss: 0.6989 - accuracy: 0.5251\n",
      "Test Accuracy: 0.5250726342201233\n"
     ]
    }
   ],
   "source": [
    "test_y1 = tf.convert_to_tensor(np.asarray(test_data['sentiment']).astype(np.float32).reshape((-1,1)))\n",
    "loss1, accuracy1 = model1.evaluate(test_word_embedding, test_y1)\n",
    "print('Test Accuracy:',accuracy1)"
   ]
  },
  {
   "cell_type": "code",
   "execution_count": 24,
   "metadata": {
    "id": "ZW69DrxlbQOx"
   },
   "outputs": [
    {
     "name": "stdout",
     "output_type": "stream",
     "text": [
      "44/44 [==============================] - 1s 18ms/step - loss: 0.6844 - accuracy: 0.5522\n",
      "Training Accuracy: 0.5521525740623474\n"
     ]
    }
   ],
   "source": [
    "loss1, accuracy1 = model1.evaluate(train_word_embedding, train_y1)\n",
    "print('Training Accuracy:',accuracy1)"
   ]
  },
  {
   "cell_type": "markdown",
   "metadata": {},
   "source": [
    "<h2>Q1 f(i)</h2>"
   ]
  },
  {
   "cell_type": "code",
   "execution_count": 30,
   "metadata": {
    "id": "LNwYE0SObjMc"
   },
   "outputs": [],
   "source": [
    "#LSTM\n",
    "model2 = Sequential()\n",
    "model2.add(Embedding(5000, 32, input_length=train_word_embedding.shape[1]))\n",
    "model2.add(LSTM(32, dropout=0.2))\n",
    "model2.add(Dense(50, activation='relu'))\n",
    "model2.add(Dropout(0.2))\n",
    "model2.add(Dense(1, activation='sigmoid'))"
   ]
  },
  {
   "cell_type": "code",
   "execution_count": 31,
   "metadata": {
    "id": "NrYoS00Ud2Sm"
   },
   "outputs": [
    {
     "name": "stdout",
     "output_type": "stream",
     "text": [
      "Model: \"sequential_3\"\n",
      "_________________________________________________________________\n",
      " Layer (type)                Output Shape              Param #   \n",
      "=================================================================\n",
      " embedding_3 (Embedding)     (None, 737, 32)           160000    \n",
      "                                                                 \n",
      " lstm_2 (LSTM)               (None, 32)                8320      \n",
      "                                                                 \n",
      " dense_6 (Dense)             (None, 50)                1650      \n",
      "                                                                 \n",
      " dropout_5 (Dropout)         (None, 50)                0         \n",
      "                                                                 \n",
      " dense_7 (Dense)             (None, 1)                 51        \n",
      "                                                                 \n",
      "=================================================================\n",
      "Total params: 170,021\n",
      "Trainable params: 170,021\n",
      "Non-trainable params: 0\n",
      "_________________________________________________________________\n"
     ]
    }
   ],
   "source": [
    "model2.summary()"
   ]
  },
  {
   "cell_type": "code",
   "execution_count": 32,
   "metadata": {
    "id": "nVfP4zIdd52X"
   },
   "outputs": [
    {
     "name": "stdout",
     "output_type": "stream",
     "text": [
      "Epoch 1/20\n",
      "140/140 [==============================] - 39s 258ms/step - loss: 0.6910 - accuracy: 0.5243\n",
      "Epoch 2/20\n",
      "140/140 [==============================] - 36s 259ms/step - loss: 0.6729 - accuracy: 0.5614\n",
      "Epoch 3/20\n",
      "140/140 [==============================] - 36s 261ms/step - loss: 0.6089 - accuracy: 0.6371\n",
      "Epoch 4/20\n",
      "140/140 [==============================] - 36s 259ms/step - loss: 0.5678 - accuracy: 0.6714\n",
      "Epoch 5/20\n",
      "140/140 [==============================] - 36s 259ms/step - loss: 0.5333 - accuracy: 0.6793\n",
      "Epoch 6/20\n",
      "140/140 [==============================] - 36s 259ms/step - loss: 0.4909 - accuracy: 0.6664\n",
      "Epoch 7/20\n",
      "140/140 [==============================] - 36s 259ms/step - loss: 0.5035 - accuracy: 0.6629\n",
      "Epoch 8/20\n",
      "140/140 [==============================] - 36s 259ms/step - loss: 0.5015 - accuracy: 0.6857\n",
      "Epoch 9/20\n",
      "140/140 [==============================] - 36s 259ms/step - loss: 0.4794 - accuracy: 0.6771\n",
      "Epoch 10/20\n",
      "140/140 [==============================] - 36s 259ms/step - loss: 0.4769 - accuracy: 0.6836\n",
      "Epoch 11/20\n",
      "140/140 [==============================] - 36s 257ms/step - loss: 0.4776 - accuracy: 0.6900\n",
      "Epoch 12/20\n",
      "140/140 [==============================] - 37s 261ms/step - loss: 0.4735 - accuracy: 0.6864\n",
      "Epoch 13/20\n",
      "140/140 [==============================] - 37s 262ms/step - loss: 0.4703 - accuracy: 0.6893\n",
      "Epoch 14/20\n",
      "140/140 [==============================] - 36s 259ms/step - loss: 0.4664 - accuracy: 0.6907\n",
      "Epoch 15/20\n",
      "140/140 [==============================] - 37s 262ms/step - loss: 0.4722 - accuracy: 0.6821\n",
      "Epoch 16/20\n",
      "140/140 [==============================] - 37s 262ms/step - loss: 0.4711 - accuracy: 0.6750\n",
      "Epoch 17/20\n",
      "140/140 [==============================] - 37s 262ms/step - loss: 0.4667 - accuracy: 0.6857\n",
      "Epoch 18/20\n",
      "140/140 [==============================] - 37s 264ms/step - loss: 0.4639 - accuracy: 0.6879\n",
      "Epoch 19/20\n",
      "140/140 [==============================] - 37s 262ms/step - loss: 0.4707 - accuracy: 0.6857\n",
      "Epoch 20/20\n",
      "140/140 [==============================] - 36s 261ms/step - loss: 0.4671 - accuracy: 0.6893\n"
     ]
    },
    {
     "data": {
      "text/plain": [
       "<keras.callbacks.History at 0x1e1b0934e20>"
      ]
     },
     "execution_count": 32,
     "metadata": {},
     "output_type": "execute_result"
    }
   ],
   "source": [
    "model2.compile(loss='binary_crossentropy', optimizer='adam', metrics='accuracy')\n",
    "train_y1 = tf.convert_to_tensor(np.asarray(train_data['sentiment']).astype(np.float32).reshape((-1,1)))\n",
    "model2.fit(train_word_embedding, train_y1, epochs=20, batch_size=10, verbose=1)"
   ]
  },
  {
   "cell_type": "markdown",
   "metadata": {},
   "source": [
    "<h2>Q1 f(ii)</h2>"
   ]
  },
  {
   "cell_type": "code",
   "execution_count": 33,
   "metadata": {
    "id": "OvpjuYAzeA3o"
   },
   "outputs": [
    {
     "name": "stdout",
     "output_type": "stream",
     "text": [
      "19/19 [==============================] - 3s 114ms/step - loss: 1.4200 - accuracy: 0.5100\n",
      "Test Accuracy: 0.5099999904632568\n"
     ]
    }
   ],
   "source": [
    "test_y1 = tf.convert_to_tensor(np.asarray(test_data['sentiment']).astype(np.float32).reshape((-1,1)))\n",
    "loss2, accuracy2 = model2.evaluate(test_word_embedding, test_y1)\n",
    "print('Test Accuracy:',accuracy2)"
   ]
  },
  {
   "cell_type": "code",
   "execution_count": 34,
   "metadata": {
    "id": "4xvR2bzxeTNz"
   },
   "outputs": [
    {
     "name": "stdout",
     "output_type": "stream",
     "text": [
      "44/44 [==============================] - 5s 116ms/step - loss: 0.4689 - accuracy: 0.6807\n",
      "Training Accuracy: 0.6807143092155457\n"
     ]
    }
   ],
   "source": [
    "loss2, accuracy2 = model2.evaluate(train_word_embedding, train_y1)\n",
    "print('Training Accuracy:',accuracy2)"
   ]
  },
  {
   "cell_type": "code",
   "execution_count": null,
   "metadata": {},
   "outputs": [],
   "source": []
  }
 ],
 "metadata": {
  "colab": {
   "name": "Untitled4.ipynb",
   "provenance": []
  },
  "kernelspec": {
   "display_name": "Python 3 (ipykernel)",
   "language": "python",
   "name": "python3"
  },
  "language_info": {
   "codemirror_mode": {
    "name": "ipython",
    "version": 3
   },
   "file_extension": ".py",
   "mimetype": "text/x-python",
   "name": "python",
   "nbconvert_exporter": "python",
   "pygments_lexer": "ipython3",
   "version": "3.9.7"
  }
 },
 "nbformat": 4,
 "nbformat_minor": 1
}
